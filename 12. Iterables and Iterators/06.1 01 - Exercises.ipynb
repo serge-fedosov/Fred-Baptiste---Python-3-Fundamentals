{
 "cells": [
  {
   "cell_type": "markdown",
   "id": "actual-product",
   "metadata": {},
   "source": [
    "### Solutions"
   ]
  },
  {
   "cell_type": "markdown",
   "id": "choice-local",
   "metadata": {},
   "source": [
    "#### Question 1"
   ]
  },
  {
   "cell_type": "markdown",
   "id": "later-brown",
   "metadata": {},
   "source": [
    "Given the following list:"
   ]
  },
  {
   "cell_type": "code",
   "execution_count": 1,
   "id": "bound-religion",
   "metadata": {},
   "outputs": [],
   "source": [
    "l = [10, 'abc', 3.14, True]"
   ]
  },
  {
   "cell_type": "markdown",
   "id": "fatty-quantity",
   "metadata": {},
   "source": [
    "Write code that prints out the index number and value at that index for every element of `l`."
   ]
  },
  {
   "cell_type": "code",
   "execution_count": 1,
   "id": "45a2b50a",
   "metadata": {},
   "outputs": [
    {
     "name": "stdout",
     "output_type": "stream",
     "text": [
      "0 10\n",
      "1 abc\n",
      "2 3.14\n",
      "3 True\n"
     ]
    }
   ],
   "source": [
    "l = [10, 'abc', 3.14, True]\n",
    "\n",
    "for idx, val in enumerate(l):\n",
    "    print(idx, val)"
   ]
  },
  {
   "cell_type": "markdown",
   "id": "based-baking",
   "metadata": {},
   "source": [
    "#### Question 2"
   ]
  },
  {
   "cell_type": "markdown",
   "id": "mental-venture",
   "metadata": {},
   "source": [
    "We saw in this section how generator expressions can be more efficient, not only in terms os memory, but also in terms of computation time when not all values in the generator are iterated."
   ]
  },
  {
   "cell_type": "markdown",
   "id": "referenced-italy",
   "metadata": {},
   "source": [
    "Create a generator expression that when iterated over will produce the integers from `1` to `10_000` raised to the power of `1`, `2`, `3`, etc."
   ]
  },
  {
   "cell_type": "markdown",
   "id": "shared-serbia",
   "metadata": {},
   "source": [
    "So this generator should produce these results:"
   ]
  },
  {
   "cell_type": "markdown",
   "id": "cheap-emission",
   "metadata": {},
   "source": [
    "```\n",
    "1**1, 2**2, 3**3, 4**4, ...\n",
    "```"
   ]
  },
  {
   "cell_type": "markdown",
   "id": "liable-connectivity",
   "metadata": {},
   "source": [
    "Once you have created a generator expression to do this, time your results to create the generator and iterate through the first 5 elements of the generator."
   ]
  },
  {
   "cell_type": "markdown",
   "id": "divided-senior",
   "metadata": {},
   "source": [
    "Then, do the same thing, but using a list comprehension instead of a generator expression."
   ]
  },
  {
   "cell_type": "markdown",
   "id": "mexican-latin",
   "metadata": {},
   "source": [
    "Hint: you should use the `perf_counter` apprioach we have seen a few times in previous lectures:\n",
    "\n",
    "```\n",
    "from time import perf_counter\n",
    "\n",
    "start = perf_counter()\n",
    "# your code goes here\n",
    "end = perf_counter()\n",
    "print('elapsed:', end - start)\n",
    "```\n"
   ]
  },
  {
   "cell_type": "markdown",
   "id": "caroline-queen",
   "metadata": {},
   "source": [
    "To make timings more accurate, you should time a loop that repeats your code at least 10 times."
   ]
  },
  {
   "cell_type": "code",
   "execution_count": 6,
   "id": "4c575d25",
   "metadata": {},
   "outputs": [
    {
     "name": "stdout",
     "output_type": "stream",
     "text": [
      "289\n",
      "elapsed: 0.00017659999866737053\n"
     ]
    }
   ],
   "source": [
    "from time import perf_counter\n",
    "\n",
    "start = perf_counter()\n",
    "for i in range(10):\n",
    "    our_iter = (j ** j for j in range(10_000))\n",
    "    total = 0\n",
    "    for k in range(5):\n",
    "        total += next(our_iter)\n",
    "end = perf_counter()\n",
    "print(total)\n",
    "print('elapsed:', end - start)"
   ]
  },
  {
   "cell_type": "code",
   "execution_count": 8,
   "id": "eeff4c53",
   "metadata": {},
   "outputs": [
    {
     "name": "stdout",
     "output_type": "stream",
     "text": [
      "289\n",
      "elapsed: 63.09318330000315\n"
     ]
    }
   ],
   "source": [
    "from time import perf_counter\n",
    "\n",
    "start = perf_counter()\n",
    "for i in range(10):\n",
    "    our_iter = iter([j ** j for j in range(10_000)])\n",
    "    total = 0\n",
    "    for k in range(5):\n",
    "        total += next(our_iter)\n",
    "end = perf_counter()\n",
    "print(total)\n",
    "print('elapsed:', end - start)"
   ]
  },
  {
   "cell_type": "code",
   "execution_count": 9,
   "id": "327ddfb4",
   "metadata": {},
   "outputs": [
    {
     "name": "stdout",
     "output_type": "stream",
     "text": [
      "289\n",
      "elapsed: 63.25754340000276\n"
     ]
    }
   ],
   "source": [
    "from time import perf_counter\n",
    "\n",
    "start = perf_counter()\n",
    "for i in range(10):\n",
    "    our_list = [j ** j for j in range(10_000)]\n",
    "    total = 0\n",
    "    for k in our_list[:5]:\n",
    "        total += k\n",
    "end = perf_counter()\n",
    "print(total)\n",
    "print('elapsed:', end - start)"
   ]
  }
 ],
 "metadata": {
  "kernelspec": {
   "display_name": "Python 3",
   "language": "python",
   "name": "python3"
  },
  "language_info": {
   "codemirror_mode": {
    "name": "ipython",
    "version": 3
   },
   "file_extension": ".py",
   "mimetype": "text/x-python",
   "name": "python",
   "nbconvert_exporter": "python",
   "pygments_lexer": "ipython3",
   "version": "3.11.0"
  },
  "vscode": {
   "interpreter": {
    "hash": "55aeaf7473216085d5c3b22ad63148d2386172137f36d7a08737879f307ed581"
   }
  }
 },
 "nbformat": 4,
 "nbformat_minor": 5
}
