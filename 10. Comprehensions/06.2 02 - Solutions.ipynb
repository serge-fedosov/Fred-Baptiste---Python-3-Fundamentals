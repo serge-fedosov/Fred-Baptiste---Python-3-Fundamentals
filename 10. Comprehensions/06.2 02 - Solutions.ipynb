{
 "cells": [
  {
   "cell_type": "markdown",
   "id": "taken-thanks",
   "metadata": {},
   "source": [
    "### Solutions"
   ]
  },
  {
   "cell_type": "markdown",
   "id": "uniform-mouse",
   "metadata": {},
   "source": [
    "#### Question 1"
   ]
  },
  {
   "cell_type": "markdown",
   "id": "earned-deficit",
   "metadata": {},
   "source": [
    "Given the following data:"
   ]
  },
  {
   "cell_type": "code",
   "execution_count": 1,
   "id": "senior-steam",
   "metadata": {},
   "outputs": [],
   "source": [
    "data = [\n",
    "    {'open': 100, 'high': 120, 'low': 90, 'close': 110},\n",
    "    {'open': 110, 'high': 130, 'low': 80, 'close': 120},\n",
    "    {'open': 120, 'high': 140, 'low': 70, 'close': 130},\n",
    "    {'open': 130, 'high': 150, 'low': 60, 'close': 140},\n",
    "]"
   ]
  },
  {
   "cell_type": "markdown",
   "id": "strange-newark",
   "metadata": {},
   "source": [
    "Re-write the following code using a comprehension:"
   ]
  },
  {
   "cell_type": "code",
   "execution_count": 2,
   "id": "solved-lancaster",
   "metadata": {},
   "outputs": [],
   "source": [
    "ranges = []\n",
    "for d in data:\n",
    "    ranges.append(d['high'] - d['low'])"
   ]
  },
  {
   "cell_type": "markdown",
   "id": "together-tackle",
   "metadata": {},
   "source": [
    "##### Solution"
   ]
  },
  {
   "cell_type": "markdown",
   "id": "creative-button",
   "metadata": {},
   "source": [
    "Instead of using a loop to iteratively append elements to an empty list, we can define the list directly using a comprehension:"
   ]
  },
  {
   "cell_type": "code",
   "execution_count": 3,
   "id": "suspected-agenda",
   "metadata": {},
   "outputs": [],
   "source": [
    "ranges = [d['high'] - d['low'] for d in data]"
   ]
  },
  {
   "cell_type": "code",
   "execution_count": 4,
   "id": "small-december",
   "metadata": {},
   "outputs": [
    {
     "data": {
      "text/plain": [
       "[30, 50, 70, 90]"
      ]
     },
     "execution_count": 4,
     "metadata": {},
     "output_type": "execute_result"
    }
   ],
   "source": [
    "ranges"
   ]
  },
  {
   "cell_type": "markdown",
   "id": "finnish-theorem",
   "metadata": {},
   "source": [
    "#### Question 2"
   ]
  },
  {
   "cell_type": "markdown",
   "id": "preliminary-trigger",
   "metadata": {},
   "source": [
    "Find all the numbers from 1 to 100 (inclusive) that are divisible by any single digit except 1."
   ]
  },
  {
   "cell_type": "markdown",
   "id": "understanding-stewart",
   "metadata": {},
   "source": [
    "For example, 22 is divisible by 2, so it should get included in the result. But 11 is not divisible by any of the digits 2-9, so it should not get included."
   ]
  },
  {
   "cell_type": "markdown",
   "id": "latest-fellow",
   "metadata": {},
   "source": [
    "Your solution should use comprehensions. (Hint: you may need nested loops in your comprehension)"
   ]
  },
  {
   "cell_type": "markdown",
   "id": "classified-tournament",
   "metadata": {},
   "source": [
    "Next, find all the numbers from 1 to 100 (inclusive) that are not in the list of numbers you just generated."
   ]
  },
  {
   "cell_type": "markdown",
   "id": "nutritional-flour",
   "metadata": {},
   "source": [
    "If your code works correctly, you should end up with this result:\n",
    "\n",
    "```\n",
    "{1, 11, 13, 17, 19, 23, 29, 31, 37, 41, 43, 47, 53, 59, 61, 67, 71, 73, 79, 83, 89, 97}\n",
    "```"
   ]
  },
  {
   "cell_type": "markdown",
   "id": "relevant-reaction",
   "metadata": {},
   "source": [
    "##### Solution"
   ]
  },
  {
   "cell_type": "markdown",
   "id": "continental-surprise",
   "metadata": {},
   "source": [
    "Let's solve this using a non-comprehension first to get a feel for the algorithm."
   ]
  },
  {
   "cell_type": "code",
   "execution_count": 5,
   "id": "excellent-draft",
   "metadata": {},
   "outputs": [
    {
     "name": "stdout",
     "output_type": "stream",
     "text": [
      "[2, 3, 4, 5, 6, 7, 8, 9, 10, 12, 14, 15, 16, 18, 20, 21, 22, 24, 25, 26, 27, 28, 30, 32, 33, 34, 35, 36, 38, 39, 40, 42, 44, 45, 46, 48, 49, 50, 51, 52, 54, 55, 56, 57, 58, 60, 62, 63, 64, 65, 66, 68, 69, 70, 72, 74, 75, 76, 77, 78, 80, 81, 82, 84, 85, 86, 87, 88, 90, 91, 92, 93, 94, 95, 96, 98, 99, 100]\n"
     ]
    }
   ],
   "source": [
    "result = []\n",
    "\n",
    "for number in range(1, 101):\n",
    "    for n in range(2, 10):\n",
    "        if number % n == 0:\n",
    "            result.append(number)\n",
    "            break  # no need to try other divisors, so exit inner loop early\n",
    "\n",
    "print(result)"
   ]
  },
  {
   "cell_type": "code",
   "execution_count": 6,
   "id": "bronze-rhythm",
   "metadata": {},
   "outputs": [
    {
     "name": "stdout",
     "output_type": "stream",
     "text": [
      "{1, 11, 13, 17, 19, 23, 29, 31, 37, 41, 43, 47, 53, 59, 61, 67, 71, 73, 79, 83, 89, 97}\n"
     ]
    }
   ],
   "source": [
    "not_divisible = set(range(1, 100)) - set(result)\n",
    "print(not_divisible)"
   ]
  },
  {
   "cell_type": "markdown",
   "id": "aggregate-proportion",
   "metadata": {},
   "source": [
    "Now let's try a comprehension approach to find the list of divisible numbers:"
   ]
  },
  {
   "cell_type": "code",
   "execution_count": 7,
   "id": "banner-concern",
   "metadata": {},
   "outputs": [
    {
     "name": "stdout",
     "output_type": "stream",
     "text": [
      "[2, 3, 4, 4, 5, 6, 6, 6, 7, 8, 8, 8, 9, 9, 10, 10, 12, 12, 12, 12, 14, 14, 15, 15, 16, 16, 16, 18, 18, 18, 18, 20, 20, 20, 21, 21, 22, 24, 24, 24, 24, 24, 25, 26, 27, 27, 28, 28, 28, 30, 30, 30, 30, 32, 32, 32, 33, 34, 35, 35, 36, 36, 36, 36, 36, 38, 39, 40, 40, 40, 40, 42, 42, 42, 42, 44, 44, 45, 45, 45, 46, 48, 48, 48, 48, 48, 49, 50, 50, 51, 52, 52, 54, 54, 54, 54, 55, 56, 56, 56, 56, 57, 58, 60, 60, 60, 60, 60, 62, 63, 63, 63, 64, 64, 64, 65, 66, 66, 66, 68, 68, 69, 70, 70, 70, 72, 72, 72, 72, 72, 72, 74, 75, 75, 76, 76, 77, 78, 78, 78, 80, 80, 80, 80, 81, 81, 82, 84, 84, 84, 84, 84, 85, 86, 87, 88, 88, 88, 90, 90, 90, 90, 90, 91, 92, 92, 93, 94, 95, 96, 96, 96, 96, 96, 98, 98, 99, 99, 100, 100, 100]\n"
     ]
    }
   ],
   "source": [
    "result = [number for number in range(1, 101) for n in range(2, 10) if number % n == 0]\n",
    "print(result)"
   ]
  },
  {
   "cell_type": "markdown",
   "id": "played-commitment",
   "metadata": {},
   "source": [
    "As you can see we have repeated results (because a number may be divisible by multiple single digit numbers). We were able to circumvent this problem in our first approach by breaking out of the inner loop, but we don't have that control in a comprehension."
   ]
  },
  {
   "cell_type": "markdown",
   "id": "voluntary-stomach",
   "metadata": {},
   "source": [
    "However, we can easily rectify this by making a set out of those numbers, using a set comprehension:"
   ]
  },
  {
   "cell_type": "code",
   "execution_count": 8,
   "id": "forbidden-nebraska",
   "metadata": {},
   "outputs": [
    {
     "name": "stdout",
     "output_type": "stream",
     "text": [
      "{2, 3, 4, 5, 6, 7, 8, 9, 10, 12, 14, 15, 16, 18, 20, 21, 22, 24, 25, 26, 27, 28, 30, 32, 33, 34, 35, 36, 38, 39, 40, 42, 44, 45, 46, 48, 49, 50, 51, 52, 54, 55, 56, 57, 58, 60, 62, 63, 64, 65, 66, 68, 69, 70, 72, 74, 75, 76, 77, 78, 80, 81, 82, 84, 85, 86, 87, 88, 90, 91, 92, 93, 94, 95, 96, 98, 99, 100}\n"
     ]
    }
   ],
   "source": [
    "result = {number for number in range(1, 101) for n in range(2, 10) if number % n == 0}\n",
    "print(result)"
   ]
  },
  {
   "cell_type": "markdown",
   "id": "damaged-vegetarian",
   "metadata": {},
   "source": [
    "Now that we have this result, we can proceed just as before using set subtraction to get the list of non-divisible numbers:"
   ]
  },
  {
   "cell_type": "code",
   "execution_count": 9,
   "id": "round-drawing",
   "metadata": {},
   "outputs": [
    {
     "name": "stdout",
     "output_type": "stream",
     "text": [
      "{1, 11, 13, 17, 19, 23, 29, 31, 37, 41, 43, 47, 53, 59, 61, 67, 71, 73, 79, 83, 89, 97}\n"
     ]
    }
   ],
   "source": [
    "result = set(range(1, 101)) - result\n",
    "print(result)"
   ]
  },
  {
   "cell_type": "markdown",
   "id": "dried-beast",
   "metadata": {},
   "source": [
    "You might be wondering if maybe the first approach, although not as elegant as a comprehension might actually run faster given that we break out of the inner loop early."
   ]
  },
  {
   "cell_type": "markdown",
   "id": "greater-advisory",
   "metadata": {},
   "source": [
    "We will perform less calculations using the first approach, so we probably shoudl expect it to run faster."
   ]
  },
  {
   "cell_type": "markdown",
   "id": "sitting-cycle",
   "metadata": {},
   "source": [
    "Let's time things and see."
   ]
  },
  {
   "cell_type": "code",
   "execution_count": 10,
   "id": "absolute-superior",
   "metadata": {},
   "outputs": [],
   "source": [
    "from time import perf_counter"
   ]
  },
  {
   "cell_type": "code",
   "execution_count": 11,
   "id": "federal-forwarding",
   "metadata": {},
   "outputs": [
    {
     "name": "stdout",
     "output_type": "stream",
     "text": [
      "0.0001446410000000009 seconds elapsed\n"
     ]
    }
   ],
   "source": [
    "start_time = perf_counter()\n",
    "result = []\n",
    "\n",
    "for number in range(1, 101):\n",
    "    for n in range(2, 10):\n",
    "        if number % n == 0:\n",
    "            result.append(number)\n",
    "            break  # no need to try other divisors, so exit inner loop early\n",
    "\n",
    "end_time = perf_counter()\n",
    "print(end_time - start_time, \"seconds elapsed\")"
   ]
  },
  {
   "cell_type": "markdown",
   "id": "soviet-resort",
   "metadata": {},
   "source": [
    "Now, let's do the same timing, but using the comprehension:"
   ]
  },
  {
   "cell_type": "code",
   "execution_count": 12,
   "id": "described-performer",
   "metadata": {},
   "outputs": [
    {
     "name": "stdout",
     "output_type": "stream",
     "text": [
      "0.00017873000000001582 seconds elapsed\n"
     ]
    }
   ],
   "source": [
    "start_time = perf_counter()\n",
    "result = {number for number in range(1, 101) for n in range(2, 10) if number % n == 0}\n",
    "end_time = perf_counter()\n",
    "print(end_time - start_time, \"seconds elapsed\")"
   ]
  },
  {
   "cell_type": "markdown",
   "id": "senior-singer",
   "metadata": {},
   "source": [
    "The timings seem quite close to each other, but what happens if we run this for a much larger set of numbers?"
   ]
  },
  {
   "cell_type": "code",
   "execution_count": 13,
   "id": "american-junior",
   "metadata": {},
   "outputs": [
    {
     "name": "stdout",
     "output_type": "stream",
     "text": [
      "0.48281746000000003 seconds elapsed\n"
     ]
    }
   ],
   "source": [
    "start_time = perf_counter()\n",
    "result = []\n",
    "\n",
    "for number in range(1, 1_000_000):\n",
    "    for n in range(2, 10):\n",
    "        if number % n == 0:\n",
    "            result.append(number)\n",
    "            break  # no need to try other divisors, so exit inner loop early\n",
    "\n",
    "end_time = perf_counter()\n",
    "print(end_time - start_time, \"seconds elapsed\")"
   ]
  },
  {
   "cell_type": "code",
   "execution_count": 14,
   "id": "metric-league",
   "metadata": {},
   "outputs": [
    {
     "name": "stdout",
     "output_type": "stream",
     "text": [
      "0.584591861 seconds elapsed\n"
     ]
    }
   ],
   "source": [
    "start_time = perf_counter()\n",
    "result = {number for number in range(1, 1_000_000) for n in range(2, 10) if number % n == 0}\n",
    "end_time = perf_counter()\n",
    "print(end_time - start_time, \"seconds elapsed\")"
   ]
  },
  {
   "cell_type": "markdown",
   "id": "promotional-valentine",
   "metadata": {},
   "source": [
    "As you can see, the comprehension approach actually gets slower as we deal with more and more numbers."
   ]
  },
  {
   "cell_type": "markdown",
   "id": "interpreted-turkey",
   "metadata": {},
   "source": [
    "The moral of the story here is that a comprehension is not **always** more efficient than the standard loop/append we did first. And that's because we were able to cut out calculations in the loop/append approach that we were unable to do using a comprehension."
   ]
  },
  {
   "cell_type": "markdown",
   "id": "described-bottle",
   "metadata": {},
   "source": [
    "#### Question 3"
   ]
  },
  {
   "cell_type": "markdown",
   "id": "industrial-chemical",
   "metadata": {},
   "source": [
    "You are given the following data:"
   ]
  },
  {
   "cell_type": "code",
   "execution_count": 15,
   "id": "ambient-smooth",
   "metadata": {},
   "outputs": [],
   "source": [
    "data = [\n",
    "    {'symbol': 'ABCD', 'name': 'ABCD Company', 'ranking': 2, 'risk': 0.2},\n",
    "    {'symbol': 'BCDE', 'name': 'BCDE Company', 'ranking': 5, 'risk': 0.2},\n",
    "    {'symbol': 'CDEF', 'name': 'CDEF Company', 'ranking': 8, 'risk': 0.5},\n",
    "    {'symbol': 'DEFG', 'name': 'DEFG Company', 'ranking': 7, 'risk': 0.8},\n",
    "    {'symbol': 'EFGH', 'name': 'EFGH Company', 'ranking': 9, 'risk': 0.6},\n",
    "    {'symbol': 'FGHI', 'name': 'FGHI Company', 'ranking': 10, 'risk': 0.1},\n",
    "    {'symbol': 'GHIJ', 'name': 'GHIJ Company', 'ranking': 3, 'risk': 0.6},\n",
    "    {'symbol': 'HIJK', 'name': 'HIJK Company', 'ranking': 5, 'risk': 0.5},\n",
    "    {'symbol': 'IJKL', 'name': 'IJKL Company', 'ranking': 5, 'risk': 0.7},\n",
    "    {'symbol': 'JKLM', 'name': 'JKLM Company', 'ranking': 6, 'risk': 0.9},\n",
    "    {'symbol': 'KLMN', 'name': 'KLMN Company', 'ranking': 6, 'risk': 0.4},\n",
    "    {'symbol': 'LMNO', 'name': 'LMNO Company', 'ranking': 8, 'risk': 0.4},\n",
    "    {'symbol': 'MNOP', 'name': 'MNOP Company', 'ranking': 8, 'risk': 0.2},\n",
    "    {'symbol': 'NOPQ', 'name': 'NOPQ Company', 'ranking': 1, 'risk': 0.5},\n",
    "    {'symbol': 'OPQR', 'name': 'OPQR Company', 'ranking': 9, 'risk': 0.2},\n",
    "    {'symbol': 'PQRS', 'name': 'PQRS Company', 'ranking': 10, 'risk': 0.9},\n",
    "    {'symbol': 'QRST', 'name': 'QRST Company', 'ranking': 3, 'risk': 0.4},\n",
    "    {'symbol': 'RSTU', 'name': 'RSTU Company', 'ranking': 7, 'risk': 0.3},\n",
    "    {'symbol': 'STUV', 'name': 'STUV Company', 'ranking': 8, 'risk': 0.1},\n",
    "    {'symbol': 'TUVW', 'name': 'TUVW Company', 'ranking': 7, 'risk': 0.9}\n",
    "]"
   ]
  },
  {
   "cell_type": "markdown",
   "id": "younger-release",
   "metadata": {},
   "source": [
    "Write code that does these two things:\n",
    "- creates a new list of of dictionaries where the ranking is at least `5`, and the risk is less than `0.6`\n",
    "- these dictionaries should contain the `symbol` and a calculated key, named `weighted`, which is the result of dividing `ranking` by `value`. (You should round this value two decimal places). Do **not** mutate the original `data` list or dictionaries in any way."
   ]
  },
  {
   "cell_type": "markdown",
   "id": "rapid-aquatic",
   "metadata": {},
   "source": [
    "##### Solution"
   ]
  },
  {
   "cell_type": "markdown",
   "id": "applied-outdoors",
   "metadata": {},
   "source": [
    "We can use a list comprehension directly, using the optional `if` part of the comprehension for filtering the rows we want:"
   ]
  },
  {
   "cell_type": "code",
   "execution_count": 16,
   "id": "diverse-station",
   "metadata": {},
   "outputs": [
    {
     "data": {
      "text/plain": [
       "[{'symbol': 'CDEF', 'name': 'CDEF Company', 'ranking': 8, 'risk': 0.5},\n",
       " {'symbol': 'FGHI', 'name': 'FGHI Company', 'ranking': 10, 'risk': 0.1},\n",
       " {'symbol': 'KLMN', 'name': 'KLMN Company', 'ranking': 6, 'risk': 0.4},\n",
       " {'symbol': 'LMNO', 'name': 'LMNO Company', 'ranking': 8, 'risk': 0.4},\n",
       " {'symbol': 'MNOP', 'name': 'MNOP Company', 'ranking': 8, 'risk': 0.2},\n",
       " {'symbol': 'OPQR', 'name': 'OPQR Company', 'ranking': 9, 'risk': 0.2},\n",
       " {'symbol': 'RSTU', 'name': 'RSTU Company', 'ranking': 7, 'risk': 0.3},\n",
       " {'symbol': 'STUV', 'name': 'STUV Company', 'ranking': 8, 'risk': 0.1}]"
      ]
     },
     "execution_count": 16,
     "metadata": {},
     "output_type": "execute_result"
    }
   ],
   "source": [
    "result = [d for d in data if d['ranking'] >= 6 and d['risk'] < 0.6]\n",
    "result"
   ]
  },
  {
   "cell_type": "markdown",
   "id": "lasting-ensemble",
   "metadata": {},
   "source": [
    "So this approach gets almost all the way to our solution. However, we do not want the original dictionaries here, but just the `symbol` and the calculated `weighted` value."
   ]
  },
  {
   "cell_type": "markdown",
   "id": "numerical-moral",
   "metadata": {},
   "source": [
    "We can very simply modify our original comprehension this way:"
   ]
  },
  {
   "cell_type": "code",
   "execution_count": 17,
   "id": "worst-august",
   "metadata": {},
   "outputs": [
    {
     "data": {
      "text/plain": [
       "[{'symbol': 'CDEF', 'weighted': 16.0},\n",
       " {'symbol': 'FGHI', 'weighted': 100.0},\n",
       " {'symbol': 'KLMN', 'weighted': 15.0},\n",
       " {'symbol': 'LMNO', 'weighted': 20.0},\n",
       " {'symbol': 'MNOP', 'weighted': 40.0},\n",
       " {'symbol': 'OPQR', 'weighted': 45.0},\n",
       " {'symbol': 'RSTU', 'weighted': 23.33},\n",
       " {'symbol': 'STUV', 'weighted': 80.0}]"
      ]
     },
     "execution_count": 17,
     "metadata": {},
     "output_type": "execute_result"
    }
   ],
   "source": [
    "result = [\n",
    "    {\n",
    "        'symbol': d['symbol'],\n",
    "        'weighted': round(d['ranking'] / d['risk'], 2)\n",
    "    }\n",
    "    for d in data \n",
    "    if d['ranking'] >= 6 and d['risk'] < 0.6\n",
    "]\n",
    "result"
   ]
  }
 ],
 "metadata": {
  "kernelspec": {
   "display_name": "Python 3",
   "language": "python",
   "name": "python3"
  },
  "language_info": {
   "codemirror_mode": {
    "name": "ipython",
    "version": 3
   },
   "file_extension": ".py",
   "mimetype": "text/x-python",
   "name": "python",
   "nbconvert_exporter": "python",
   "pygments_lexer": "ipython3",
   "version": "3.9.1"
  }
 },
 "nbformat": 4,
 "nbformat_minor": 5
}
