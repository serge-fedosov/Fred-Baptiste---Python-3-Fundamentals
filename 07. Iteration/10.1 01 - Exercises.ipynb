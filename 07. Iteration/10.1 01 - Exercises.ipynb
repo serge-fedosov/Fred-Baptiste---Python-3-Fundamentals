{
 "cells": [
  {
   "cell_type": "markdown",
   "id": "canadian-manchester",
   "metadata": {},
   "source": [
    "### Solutions"
   ]
  },
  {
   "cell_type": "markdown",
   "id": "generic-ottawa",
   "metadata": {},
   "source": [
    "#### Question 1"
   ]
  },
  {
   "cell_type": "markdown",
   "id": "mexican-fairy",
   "metadata": {},
   "source": [
    "Write some code that generates an `m` x `n` multiplication table.\n",
    "\n",
    "For example if `m=3` and `n=4` your output should look something like:\n",
    "\n",
    "```\n",
    "1 x 1 = 1\n",
    "1 x 2 = 2\n",
    "1 x 3 = 3\n",
    "1 x 4 = 4\n",
    "---------------\n",
    "2 x 1 = 2\n",
    "2 x 2 = 4\n",
    "2 x 3 = 6\n",
    "2 x 4 = 8\n",
    "---------------\n",
    "3 x 1 = 3\n",
    "3 x 2 = 6\n",
    "3 x 3 = 9\n",
    "3 x 4 = 12\n",
    "---------------\n",
    "```"
   ]
  },
  {
   "cell_type": "markdown",
   "id": "unlikely-awareness",
   "metadata": {},
   "source": [
    "Your code should be generic enough that it can handle any positive integer values of `m` and `n`."
   ]
  },
  {
   "cell_type": "code",
   "execution_count": 14,
   "id": "f9e58807",
   "metadata": {},
   "outputs": [
    {
     "name": "stdout",
     "output_type": "stream",
     "text": [
      "1 x 1 = 1\n",
      "1 x 2 = 2\n",
      "1 x 3 = 3\n",
      "1 x 4 = 4\n",
      "1 x 5 = 5\n",
      "------------\n",
      "2 x 1 = 2\n",
      "2 x 2 = 4\n",
      "2 x 3 = 6\n",
      "2 x 4 = 8\n",
      "2 x 5 = 10\n",
      "------------\n",
      "3 x 1 = 3\n",
      "3 x 2 = 6\n",
      "3 x 3 = 9\n",
      "3 x 4 = 12\n",
      "3 x 5 = 15\n",
      "------------\n"
     ]
    }
   ],
   "source": [
    "m = 3\n",
    "n = 5\n",
    "\n",
    "for row in range(1, m + 1):\n",
    "    for col in range(1, n + 1):\n",
    "        print(f'{row} x {col} = {row * col}')\n",
    "    print('-' * 12)"
   ]
  },
  {
   "cell_type": "markdown",
   "id": "automotive-establishment",
   "metadata": {},
   "source": [
    "#### Question 2"
   ]
  },
  {
   "cell_type": "markdown",
   "id": "resident-plain",
   "metadata": {},
   "source": [
    "Your are given the following tuple of lists:"
   ]
  },
  {
   "cell_type": "code",
   "execution_count": 1,
   "id": "oriental-turtle",
   "metadata": {},
   "outputs": [],
   "source": [
    "data = (\n",
    "    ['2021-01-01', 10, 20],\n",
    "    ['2021-01-02', 20, 18],\n",
    "    ['2021-01-03', -10, 10],\n",
    "    ['2021-01-04', 100, 102],\n",
    "    ['2021-01-05', 20, 45]\n",
    ")"
   ]
  },
  {
   "cell_type": "markdown",
   "id": "ordered-jonathan",
   "metadata": {},
   "source": [
    "Your program should:\n",
    "1. Mutate the lists in `data` to add one more element indicating the distance between the two integer numbers (i.e. the absolute value fo the difference)\n",
    "2. Determine on which date this newly calculate value was the largest.\n",
    "3. Be able to work for a `data` set containing any number of lists."
   ]
  },
  {
   "cell_type": "code",
   "execution_count": 7,
   "id": "f58e5975",
   "metadata": {},
   "outputs": [
    {
     "name": "stdout",
     "output_type": "stream",
     "text": [
      "2021-01-06\n",
      "(['2021-01-01', 10, 20, 10], ['2021-01-02', 20, 18, 2], ['2021-01-03', -10, 10, 20], ['2021-01-04', 100, 102, 2], ['2021-01-05', 20, 45, 25], ['2021-01-06', 20, 450, 430], ['2021-01-07', 20, 45, 25])\n"
     ]
    }
   ],
   "source": [
    "data = (\n",
    "    ['2021-01-01', 10, 20],\n",
    "    ['2021-01-02', 20, 18],\n",
    "    ['2021-01-03', -10, 10],\n",
    "    ['2021-01-04', 100, 102],\n",
    "    ['2021-01-05', 20, 45],\n",
    "    ['2021-01-06', 20, 450],\n",
    "    ['2021-01-07', 20, 45]\n",
    ")\n",
    "\n",
    "\n",
    "for idx, lst in enumerate(data):\n",
    "    dist = abs(lst[1] - lst[2])\n",
    "    lst.append(dist)\n",
    "\n",
    "    if idx == 0 or (idx != 0 and max_dist < dist):\n",
    "        max_dist = dist\n",
    "        max_dist_idx = idx\n",
    "\n",
    "print(data[max_dist_idx][0])\n",
    "print(data)\n"
   ]
  },
  {
   "cell_type": "markdown",
   "id": "activated-pixel",
   "metadata": {},
   "source": [
    "#### Question 3"
   ]
  },
  {
   "cell_type": "markdown",
   "id": "aquatic-sewing",
   "metadata": {},
   "source": [
    "You are given a list of lists containing two numbers that will need to be color coded later based on a trend determined by the following rules:\n",
    "1. If the first number of a row is higher than the second number of the previous row, append the string `up` to the row\n",
    "2. If the first number of a row is lower than the second number of the previous row, append the string `down` to the row\n",
    "3. Otherwise, append `same` to the row.\n",
    "\n",
    "Obviously you cannot apply these rules to the first row (there is no preceding row), so append an empty string for the first row.\n",
    "\n",
    "Basically think of this as a list of Open/Close values, and we want to assign the values `same`, `up`, or `down` based on how a row's Open value compares to the Close of the *previous* row."
   ]
  },
  {
   "cell_type": "markdown",
   "id": "reliable-cleveland",
   "metadata": {},
   "source": [
    "For example, given the following list:"
   ]
  },
  {
   "cell_type": "code",
   "execution_count": 2,
   "id": "still-bridges",
   "metadata": {},
   "outputs": [],
   "source": [
    "data = [\n",
    "    [10, 20],\n",
    "    [20, 30],\n",
    "    [35, 50],\n",
    "    [45, 60]\n",
    "]"
   ]
  },
  {
   "cell_type": "markdown",
   "id": "activated-phase",
   "metadata": {},
   "source": [
    "Then after your code finishes running, your `data` should look like this:\n",
    "\n",
    "```\n",
    "[\n",
    "    [10, 20, ''],\n",
    "    [20, 30, 'same'],\n",
    "    [35, 50, 'up'],\n",
    "    [45, 60, 'down']\n",
    "]\n",
    "```"
   ]
  },
  {
   "cell_type": "code",
   "execution_count": 11,
   "id": "3c77d6a5",
   "metadata": {},
   "outputs": [
    {
     "data": {
      "text/plain": [
       "[[10, 20, ''], [20, 30, 'same'], [35, 50, 'up'], [45, 60, 'down']]"
      ]
     },
     "execution_count": 11,
     "metadata": {},
     "output_type": "execute_result"
    }
   ],
   "source": [
    "data = [\n",
    "    [10, 20],\n",
    "    [20, 30],\n",
    "    [35, 50],\n",
    "    [45, 60]\n",
    "]\n",
    "\n",
    "for idx, lst in enumerate(data):\n",
    "    if idx == 0:\n",
    "        data[idx].append('')\n",
    "    elif data[idx - 1][1] < data[idx][0]:\n",
    "        data[idx].append('up')\n",
    "    elif data[idx - 1][1] > data[idx][0]:\n",
    "        data[idx].append('down')\n",
    "    else:\n",
    "        data[idx].append('same')\n",
    "        \n",
    "data"
   ]
  },
  {
   "cell_type": "code",
   "execution_count": null,
   "id": "51313ec7",
   "metadata": {},
   "outputs": [],
   "source": []
  }
 ],
 "metadata": {
  "kernelspec": {
   "display_name": "Python 3",
   "language": "python",
   "name": "python3"
  },
  "language_info": {
   "codemirror_mode": {
    "name": "ipython",
    "version": 3
   },
   "file_extension": ".py",
   "mimetype": "text/x-python",
   "name": "python",
   "nbconvert_exporter": "python",
   "pygments_lexer": "ipython3",
   "version": "3.11.0"
  },
  "vscode": {
   "interpreter": {
    "hash": "55aeaf7473216085d5c3b22ad63148d2386172137f36d7a08737879f307ed581"
   }
  }
 },
 "nbformat": 4,
 "nbformat_minor": 5
}
