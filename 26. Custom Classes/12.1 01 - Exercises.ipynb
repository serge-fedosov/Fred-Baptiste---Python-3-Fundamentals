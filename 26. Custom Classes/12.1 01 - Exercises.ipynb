{
 "cells": [
  {
   "cell_type": "markdown",
   "id": "intimate-skirt",
   "metadata": {},
   "source": [
    "### Solutions"
   ]
  },
  {
   "cell_type": "markdown",
   "id": "compliant-pavilion",
   "metadata": {},
   "source": [
    "#### Question 1"
   ]
  },
  {
   "cell_type": "markdown",
   "id": "private-theory",
   "metadata": {},
   "source": [
    "Write a custom class that will be used to model a single bank account."
   ]
  },
  {
   "cell_type": "markdown",
   "id": "greenhouse-anchor",
   "metadata": {},
   "source": [
    "Your class should implement functionality to:\n",
    "- allow initialization with values for `first_name`, `last_name`, `account_number`, `balance`, `is_overdraft_allowed`\n",
    "- keep track of a \"ledger\" that keeps a record all transactions (just use a list to keep track of this)\n",
    "    - at a minimum it should keep track of the transaction date (the current UTC datetime) and the amount (positive, or negative to indicate deposits/withdrawals) - later you could add tracking the running balance as well.\n",
    "- provide read-only properties for `first_name`, `last_name`, `account_number` and `balance`\n",
    "- provide a property to access the ledger in such a way that a user of this class cannot mutate the ledger directly\n",
    "- provide a read-write property for `is_overdraft_allowed` that indicates whether overdrafts are allowed on the account.\n",
    "- provide methods to debit (`def withdraw`) and credit (`def deposit`) transactions that:\n",
    "    - verify withdrawals against available balance and `is_overdraft_allowed` flag\n",
    "        - if withdrawal is larger than available balance and overdrafts are not allowed, this should raise a custom `OverdraftNotAllowed` exception.\n",
    "        - if transaction value is not positive, this should raise a `ValueError` exception (we have separate methods for deposits and withdrawals, and we expect the value to be positive in both cases - one will add to the balance, one will subtract from the balance).\n",
    "    - add an entry to the ledger with a current UTC timestamp (positive or negative to indicate credit/debit)\n",
    "    - keeps the available balance updated\n",
    "- implements a good string representation for the instance (maybe something like `first_name last_name (account_number): balance`"
   ]
  },
  {
   "cell_type": "markdown",
   "id": "cultural-point",
   "metadata": {},
   "source": [
    "Feel free to expand on the minimum definition I have given here and enhance your custom class."
   ]
  },
  {
   "cell_type": "code",
   "execution_count": 1,
   "id": "a8eea323",
   "metadata": {},
   "outputs": [
    {
     "name": "stdout",
     "output_type": "stream",
     "text": [
      "True\n",
      "True\n",
      "Ivan Petrov (34553): 10000\n",
      "Ivan Petrov (34553): 10100\n",
      "Ivan Petrov (34553): -9900\n",
      "['2023-03-27 12:07:17.696553 100', '2023-03-27 12:07:17.696553 -10000', '2023-03-27 12:07:17.696553 -10000']\n"
     ]
    }
   ],
   "source": [
    "from datetime import datetime, timezone\n",
    "\n",
    "\n",
    "class OverdraftNotAllowed(ValueError):\n",
    "    pass\n",
    "\n",
    "\n",
    "class BankAccount:\n",
    "    def __init__(self, first_name, last_name, account_number, balance, is_overdraft_allowed):\n",
    "        self._first_name = first_name\n",
    "        self._last_name = last_name\n",
    "        self._account_number = account_number\n",
    "        self._balance = balance\n",
    "        self._is_overdraft_allowed = is_overdraft_allowed\n",
    "        self._ledger = []\n",
    "\n",
    "    @property\n",
    "    def first_name(self):\n",
    "        return self._first_name\n",
    "\n",
    "    @property\n",
    "    def last_name(self):\n",
    "        return self._last_name\n",
    "\n",
    "    @property\n",
    "    def account_number(self):\n",
    "        return self._account_number\n",
    "\n",
    "    @property\n",
    "    def balance(self):\n",
    "        return self._balance\n",
    "\n",
    "    @property\n",
    "    def is_overdraft_allowed(self):\n",
    "        return self._is_overdraft_allowed\n",
    "\n",
    "    @is_overdraft_allowed.setter\n",
    "    def is_overdraft_allowed(self, value):\n",
    "        self._is_overdraft_allowed = value\n",
    "\n",
    "    def __str__(self):\n",
    "        return f'{self._first_name} {self._last_name} ({self._account_number}): {self._balance}'\n",
    "\n",
    "    def withdraw(self, amount):\n",
    "        if amount <= 0:\n",
    "            raise ValueError('the value must be positive')\n",
    "        if self._balance < amount and not self._is_overdraft_allowed:\n",
    "            raise OverdraftNotAllowed('there are not enough funds on the account')\n",
    "        s = str(datetime.now(timezone.utc).replace(tzinfo=None)) + ' -' + str(amount)\n",
    "        self._ledger.append(s)\n",
    "        self._balance -= amount\n",
    "\n",
    "    def deposit(self, amount):\n",
    "        if amount <= 0:\n",
    "            raise ValueError('the value must be positive')\n",
    "        s = str(datetime.now(timezone.utc).replace(tzinfo=None)) + ' ' + str(amount)\n",
    "        self._ledger.append(s)\n",
    "        self._balance += amount\n",
    "\n",
    "    @property\n",
    "    def ledger(self):\n",
    "        return self._ledger\n",
    "\n",
    "\n",
    "ba = BankAccount('Ivan', 'Petrov', 34553, 10000, True)\n",
    "print(ba.is_overdraft_allowed)\n",
    "# ba.is_overdraft_allowed = False\n",
    "print(ba.is_overdraft_allowed)\n",
    "print(ba)\n",
    "# ba.deposit(-100)\n",
    "ba.deposit(100)\n",
    "print(ba)\n",
    "ba.withdraw(10000)\n",
    "# ba.withdraw(200)\n",
    "ba.withdraw(10000)\n",
    "print(ba)\n",
    "print(ba.ledger)\n"
   ]
  },
  {
   "cell_type": "markdown",
   "id": "weekly-working",
   "metadata": {},
   "source": [
    "#### Question 2"
   ]
  },
  {
   "cell_type": "markdown",
   "id": "accompanied-collaboration",
   "metadata": {},
   "source": [
    "Expand on your class above to implement equality (`==`) comparisons between instances of your class."
   ]
  },
  {
   "cell_type": "markdown",
   "id": "acceptable-creek",
   "metadata": {},
   "source": [
    "Two accounts should be considered equal if the account numbers are the same."
   ]
  },
  {
   "cell_type": "code",
   "execution_count": 2,
   "id": "47c45d6a",
   "metadata": {},
   "outputs": [
    {
     "name": "stdout",
     "output_type": "stream",
     "text": [
      "True\n",
      "True\n",
      "Ivan Petrov (34553): 10000\n",
      "Ivan Petrov (34553): 10100\n",
      "Ivan Petrov (34553): -9900\n",
      "['2023-03-27 12:11:21.809751 100', '2023-03-27 12:11:21.809751 -10000', '2023-03-27 12:11:21.809751 -10000']\n",
      "True\n",
      "False\n",
      "False\n"
     ]
    }
   ],
   "source": [
    "from datetime import datetime, timezone\n",
    "\n",
    "\n",
    "class OverdraftNotAllowed(ValueError):\n",
    "    pass\n",
    "\n",
    "\n",
    "class BankAccount:\n",
    "    def __init__(self, first_name, last_name, account_number, balance, is_overdraft_allowed):\n",
    "        self._first_name = first_name\n",
    "        self._last_name = last_name\n",
    "        self._account_number = account_number\n",
    "        self._balance = balance\n",
    "        self._is_overdraft_allowed = is_overdraft_allowed\n",
    "        self._ledger = []\n",
    "\n",
    "    @property\n",
    "    def first_name(self):\n",
    "        return self._first_name\n",
    "\n",
    "    @property\n",
    "    def last_name(self):\n",
    "        return self._last_name\n",
    "\n",
    "    @property\n",
    "    def account_number(self):\n",
    "        return self._account_number\n",
    "\n",
    "    @property\n",
    "    def balance(self):\n",
    "        return self._balance\n",
    "\n",
    "    @property\n",
    "    def is_overdraft_allowed(self):\n",
    "        return self._is_overdraft_allowed\n",
    "\n",
    "    @is_overdraft_allowed.setter\n",
    "    def is_overdraft_allowed(self, value):\n",
    "        self._is_overdraft_allowed = value\n",
    "\n",
    "    def __str__(self):\n",
    "        return f'{self._first_name} {self._last_name} ({self._account_number}): {self._balance}'\n",
    "\n",
    "    def withdraw(self, amount):\n",
    "        if amount <= 0:\n",
    "            raise ValueError('the value must be positive')\n",
    "        if self._balance < amount and not self._is_overdraft_allowed:\n",
    "            raise OverdraftNotAllowed('there are not enough funds on the account')\n",
    "        s = str(datetime.now(timezone.utc).replace(tzinfo=None)) + ' -' + str(amount)\n",
    "        self._ledger.append(s)\n",
    "        self._balance -= amount\n",
    "\n",
    "    def deposit(self, amount):\n",
    "        if amount <= 0:\n",
    "            raise ValueError('the value must be positive')\n",
    "        s = str(datetime.now(timezone.utc).replace(tzinfo=None)) + ' ' + str(amount)\n",
    "        self._ledger.append(s)\n",
    "        self._balance += amount\n",
    "\n",
    "    @property\n",
    "    def ledger(self):\n",
    "        return self._ledger\n",
    "    \n",
    "    def __eq__(self, other):\n",
    "        if isinstance(other, BankAccount) and self._account_number == other._account_number:\n",
    "            return True\n",
    "        return False\n",
    "        \n",
    "\n",
    "\n",
    "\n",
    "\n",
    "ba = BankAccount('Ivan', 'Petrov', 34553, 10000, True)\n",
    "ba2 = BankAccount('Ivan2', 'Petrov2', 34553, 1110000, True)\n",
    "ba3 = BankAccount('Ivan2', 'Petrov2', 134553, 1110000, True)\n",
    "print(ba.is_overdraft_allowed)\n",
    "# ba.is_overdraft_allowed = False\n",
    "print(ba.is_overdraft_allowed)\n",
    "print(ba)\n",
    "# ba.deposit(-100)\n",
    "ba.deposit(100)\n",
    "print(ba)\n",
    "ba.withdraw(10000)\n",
    "# ba.withdraw(200)\n",
    "ba.withdraw(10000)\n",
    "print(ba)\n",
    "print(ba.ledger)\n",
    "print(ba == ba2)\n",
    "print(ba == ba3)\n",
    "print(ba == 'test')\n"
   ]
  },
  {
   "cell_type": "code",
   "execution_count": null,
   "id": "348fd5ab",
   "metadata": {},
   "outputs": [],
   "source": []
  }
 ],
 "metadata": {
  "kernelspec": {
   "display_name": "Python 3",
   "language": "python",
   "name": "python3"
  },
  "language_info": {
   "codemirror_mode": {
    "name": "ipython",
    "version": 3
   },
   "file_extension": ".py",
   "mimetype": "text/x-python",
   "name": "python",
   "nbconvert_exporter": "python",
   "pygments_lexer": "ipython3",
   "version": "3.11.0"
  }
 },
 "nbformat": 4,
 "nbformat_minor": 5
}
